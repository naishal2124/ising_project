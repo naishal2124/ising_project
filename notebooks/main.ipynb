{
 "cells": [
  {
   "cell_type": "code",
   "execution_count": 5,
   "metadata": {},
   "outputs": [
    {
     "name": "stdout",
     "output_type": "stream",
     "text": [
      "Current working directory: c:\\Users\\naish\\ising_project\\notebooks\n",
      "Project directory: c:\\Users\\naish\\ising_project\\notebooks\n",
      "src directory exists: False\n",
      "Import error: No module named 'src'\n",
      "Python path: ['c:\\\\Users\\\\naish\\\\ising_project\\\\notebooks', 'c:\\\\Python\\\\Python310\\\\python310.zip', 'c:\\\\Python\\\\Python310\\\\DLLs', 'c:\\\\Python\\\\Python310\\\\lib', 'c:\\\\Python\\\\Python310', '', 'c:\\\\Python\\\\Python310\\\\lib\\\\site-packages', 'c:\\\\Python\\\\Python310\\\\lib\\\\site-packages\\\\win32', 'c:\\\\Python\\\\Python310\\\\lib\\\\site-packages\\\\win32\\\\lib', 'c:\\\\Python\\\\Python310\\\\lib\\\\site-packages\\\\Pythonwin']\n"
     ]
    }
   ],
   "source": [
    "# First cell in notebook\n",
    "import sys\n",
    "import os\n",
    "from pathlib import Path\n",
    "\n",
    "# Print current directory to verify\n",
    "print(\"Current working directory:\", os.getcwd())\n",
    "\n",
    "# Get the absolute path to project directory (parent of notebook)\n",
    "project_dir = str(Path.cwd())\n",
    "print(\"Project directory:\", project_dir)\n",
    "\n",
    "# Add to Python path\n",
    "if project_dir not in sys.path:\n",
    "    sys.path.append(project_dir)\n",
    "    print(\"Added to Python path\")\n",
    "\n",
    "# Verify src is in the right place\n",
    "src_path = os.path.join(project_dir, 'src')\n",
    "print(\"src directory exists:\", os.path.exists(src_path))\n",
    "\n",
    "# Now try imports\n",
    "try:\n",
    "    from src.ising import IsingModel\n",
    "    from src.cluster import ClusterUpdater\n",
    "    from src.visual import IsingVisualizer\n",
    "    print(\"Successfully imported project modules\")\n",
    "except ImportError as e:\n",
    "    print(\"Import error:\", str(e))\n",
    "    print(\"Python path:\", sys.path)"
   ]
  },
  {
   "cell_type": "code",
   "execution_count": null,
   "metadata": {},
   "outputs": [],
   "source": []
  },
  {
   "cell_type": "code",
   "execution_count": null,
   "metadata": {},
   "outputs": [],
   "source": []
  },
  {
   "cell_type": "code",
   "execution_count": null,
   "metadata": {},
   "outputs": [],
   "source": []
  }
 ],
 "metadata": {
  "kernelspec": {
   "display_name": "Python 3",
   "language": "python",
   "name": "python3"
  },
  "language_info": {
   "codemirror_mode": {
    "name": "ipython",
    "version": 3
   },
   "file_extension": ".py",
   "mimetype": "text/x-python",
   "name": "python",
   "nbconvert_exporter": "python",
   "pygments_lexer": "ipython3",
   "version": "3.10.3"
  }
 },
 "nbformat": 4,
 "nbformat_minor": 2
}
